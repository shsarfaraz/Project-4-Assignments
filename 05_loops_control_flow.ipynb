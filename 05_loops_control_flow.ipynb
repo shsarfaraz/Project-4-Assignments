{
  "nbformat": 4,
  "nbformat_minor": 0,
  "metadata": {
    "colab": {
      "provenance": [],
      "gpuType": "T4",
      "authorship_tag": "ABX9TyO7fPlsseukS5hdpb943mUR",
      "include_colab_link": true
    },
    "kernelspec": {
      "name": "python3",
      "display_name": "Python 3"
    },
    "language_info": {
      "name": "python"
    },
    "accelerator": "GPU"
  },
  "cells": [
    {
      "cell_type": "markdown",
      "metadata": {
        "id": "view-in-github",
        "colab_type": "text"
      },
      "source": [
        "<a href=\"https://colab.research.google.com/github/shsarfaraz/Project-4-Assignments/blob/master/05_loops_control_flow.ipynb\" target=\"_parent\"><img src=\"https://colab.research.google.com/assets/colab-badge.svg\" alt=\"Open In Colab\"/></a>"
      ]
    },
    {
      "cell_type": "code",
      "execution_count": null,
      "metadata": {
        "id": "5I6YZVBk0xfw"
      },
      "outputs": [],
      "source": []
    },
    {
      "cell_type": "code",
      "source": [
        "import random\n",
        "\n",
        "print (\"00_guess_my_number\\n\")\n",
        "\n",
        "def main():\n",
        "  secret_number = random.randint(1, 100)\n",
        "  print (\"I am thinking a number between 1 - 100 ....\")\n",
        "\n",
        "  guess = int(input(\"Enter a guess my number \"))\n",
        "\n",
        "  while guess != secret_number:\n",
        "    if guess < secret_number:\n",
        "        print (\"Your Guess is Too low\")\n",
        "    else:\n",
        "        print (\"Your Guess is Too High\")\n",
        "\n",
        "    guess = int(input(\"Enter a guess my number \"))\n",
        "\n",
        "  print(f\"Congrats! You got it... The number was {secret_number}\")\n",
        "\n",
        "if __name__ == \"__main__\":\n",
        "   main()\n",
        "\n",
        "\n",
        "\n"
      ],
      "metadata": {
        "colab": {
          "base_uri": "https://localhost:8080/"
        },
        "id": "NwJytMB801OV",
        "outputId": "2e64e5f8-ff1f-4e4e-a20a-728b98150b16"
      },
      "execution_count": 13,
      "outputs": [
        {
          "output_type": "stream",
          "name": "stdout",
          "text": [
            "00_guess_my_number\n",
            "\n",
            "I am thinking a number between 1 - 100 ....\n",
            "Enter a guess my number 10\n",
            "Your Guess is Too low\n",
            "Enter a guess my number 50\n",
            "Your Guess is Too low\n",
            "Enter a guess my number 70\n",
            "Your Guess is Too High\n",
            "Enter a guess my number 60\n",
            "Your Guess is Too High\n",
            "Enter a guess my number 55\n",
            "Your Guess is Too High\n",
            "Enter a guess my number 52\n",
            "Your Guess is Too low\n",
            "Enter a guess my number 54\n",
            "Congrats! You got it... The number was 54\n"
          ]
        }
      ]
    },
    {
      "cell_type": "code",
      "source": [
        "print (\"01_fibonacci\\n\")\n",
        "\n",
        "max_value = 10000\n",
        "\n",
        "def main():\n",
        "  a, b = 0, 1\n",
        "  while a < max_value:\n",
        "    print (a, end=' ')\n",
        "    a, b = b, a+b\n",
        "  print()\n",
        "\n",
        "if __name__ == \"__main__\":\n",
        "   main()"
      ],
      "metadata": {
        "colab": {
          "base_uri": "https://localhost:8080/"
        },
        "id": "zzyi4Q5NWMTj",
        "outputId": "f2601b65-de61-41e0-d185-253a452c1af7"
      },
      "execution_count": 14,
      "outputs": [
        {
          "output_type": "stream",
          "name": "stdout",
          "text": [
            "01_fibonacci\n",
            "\n",
            "0 1 1 2 3 5 8 13 21 34 55 89 144 233 377 610 987 1597 2584 4181 6765 \n"
          ]
        }
      ]
    },
    {
      "cell_type": "code",
      "source": [
        "print (\"02_print_events\\n\")\n",
        "\n",
        "def main():\n",
        "  for i in range(20):\n",
        "    print(i*2)\n",
        "\n",
        "if __name__ == \"__main__\":\n",
        "   main()\n"
      ],
      "metadata": {
        "colab": {
          "base_uri": "https://localhost:8080/"
        },
        "id": "ViETadUWexjz",
        "outputId": "7b34bb25-a8c7-4f96-fbf1-a5994fa44c34"
      },
      "execution_count": 18,
      "outputs": [
        {
          "output_type": "stream",
          "name": "stdout",
          "text": [
            "02_print_events\n",
            "\n",
            "0\n",
            "2\n",
            "4\n",
            "6\n",
            "8\n",
            "10\n",
            "12\n",
            "14\n",
            "16\n",
            "18\n",
            "20\n",
            "22\n",
            "24\n",
            "26\n",
            "28\n",
            "30\n",
            "32\n",
            "34\n",
            "36\n",
            "38\n"
          ]
        }
      ]
    },
    {
      "cell_type": "code",
      "source": [
        "print(\"03_wholesome_machine\\n\")\n",
        "\n",
        "AFFIRMATION : str = \"I am capable of doing anything I put my mind too.\"\n",
        "\n",
        "def main():\n",
        "  print(\"Welcome to the Wholesome Machine\")\n",
        "  while True:\n",
        "    user_input = input(\"Please type the following affirmantion! \\n\" + AFFIRMATION)\n",
        "    if user_input == AFFIRMATION:\n",
        "      print(\"\\nCongrats! You type correct AFFIRMATION\")\n",
        "      break\n",
        "    else:\n",
        "     print(\"You type incorrect AFFIRMATION. Please try again\\n\")\n",
        "\n",
        "if __name__ == \"__main__\":\n",
        "  main()\n"
      ],
      "metadata": {
        "colab": {
          "base_uri": "https://localhost:8080/"
        },
        "id": "X1tvcxzQjsZV",
        "outputId": "9eb89c85-34e1-4162-a762-a4535d29d1ae"
      },
      "execution_count": 10,
      "outputs": [
        {
          "output_type": "stream",
          "name": "stdout",
          "text": [
            "03_wholesome_machine\n",
            "\n",
            "Welcome to the Wholesome Machine\n",
            "Please type the following affirmantion! \n",
            "I am capable of doing anything I put my mind too.I am capable of doing anything I put my mind too.\n",
            "\n",
            "Congrats! You type correct AFFIRMATION\n"
          ]
        }
      ]
    },
    {
      "cell_type": "code",
      "source": [
        "print(\"04_liftoff\\n\")\n",
        "\n",
        "def main():\n",
        "  for i in range(10, 0, -1):\n",
        "    print(i, end = \" \")\n",
        "  print(\"Liftoff! 🚀\")\n",
        "\n",
        "if __name__ == \"__main__\":\n",
        "  main()"
      ],
      "metadata": {
        "colab": {
          "base_uri": "https://localhost:8080/"
        },
        "id": "ik0CEiE5T8VQ",
        "outputId": "a8b25a9a-ec9d-401d-aee8-c24cc1c65cf0"
      },
      "execution_count": 7,
      "outputs": [
        {
          "output_type": "stream",
          "name": "stdout",
          "text": [
            "04_liftoff\n",
            "\n",
            "10 9 8 7 6 5 4 3 2 1 Liftoff! 🚀\n"
          ]
        }
      ]
    },
    {
      "cell_type": "code",
      "source": [
        "print (\"05_double_it\\n\")\n",
        "\n",
        "def main():\n",
        "  user_value = int(input(\"Please Enter a Number: \"))\n",
        "  while user_value < 100:\n",
        "    user_value = user_value * 2\n",
        "    print(user_value)\n",
        "\n",
        "if __name__ == \"__main__\":\n",
        "   main()\n"
      ],
      "metadata": {
        "colab": {
          "base_uri": "https://localhost:8080/"
        },
        "id": "HHJTpTrbVrcg",
        "outputId": "ffe68104-fc5e-46ba-df04-509e29da08e1"
      },
      "execution_count": 9,
      "outputs": [
        {
          "output_type": "stream",
          "name": "stdout",
          "text": [
            "05_double_it\n",
            "\n",
            "Please Enter a Number: 4\n",
            "8\n",
            "16\n",
            "32\n",
            "64\n",
            "128\n"
          ]
        }
      ]
    }
  ]
}