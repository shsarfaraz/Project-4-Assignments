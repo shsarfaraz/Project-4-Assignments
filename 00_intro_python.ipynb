{
  "nbformat": 4,
  "nbformat_minor": 0,
  "metadata": {
    "colab": {
      "provenance": [],
      "authorship_tag": "ABX9TyObtYwEE9kTjSRj6BpE/Yqc",
      "include_colab_link": true
    },
    "kernelspec": {
      "name": "python3",
      "display_name": "Python 3"
    },
    "language_info": {
      "name": "python"
    }
  },
  "cells": [
    {
      "cell_type": "markdown",
      "metadata": {
        "id": "view-in-github",
        "colab_type": "text"
      },
      "source": [
        "<a href=\"https://colab.research.google.com/github/shsarfaraz/Project-4-Assignments/blob/master/00_intro_python.ipynb\" target=\"_parent\"><img src=\"https://colab.research.google.com/assets/colab-badge.svg\" alt=\"Open In Colab\"/></a>"
      ]
    },
    {
      "cell_type": "code",
      "execution_count": 12,
      "metadata": {
        "colab": {
          "base_uri": "https://localhost:8080/"
        },
        "id": "1r9PPlNHzhon",
        "outputId": "5fac4ed3-0212-4551-a653-27559b0bc3ca"
      },
      "outputs": [
        {
          "output_type": "stream",
          "name": "stdout",
          "text": [
            "01_add_two_numbers\n",
            "\n",
            "This Application Add Two Numbers\n",
            "\n",
            "Please Enter Your First Number18\n",
            "Please Enter Your Second Number20\n",
            "The Total Sum of 18 and 20 is 38\n"
          ]
        }
      ],
      "source": [
        "print (\"01_add_two_numbers\\n\")\n",
        "\n",
        "def add():\n",
        "  print (\"This Application Add Two Numbers\\n\")\n",
        "  first_number = int(input(\"Please Enter Your First Number\"))\n",
        "  second_number = int(input(\"Please Enter Your Second Number\"))\n",
        "  total = int(first_number + second_number)\n",
        "  print(f\"The Total Sum of {first_number} and {second_number} is {total}\")\n",
        "\n",
        "if __name__ == \"__main__\":\n",
        "  add()\n"
      ]
    },
    {
      "cell_type": "code",
      "source": [
        "print (\"02_agreement_bot\\n\")\n",
        "\n",
        "def bot():\n",
        "  animal = str(input(\"What's your favorite animal?\"))\n",
        "  print(f\"\\nMy favorite animal is also {animal}!\")\n",
        "\n",
        "if __name__ == '__main__':\n",
        "    bot()\n"
      ],
      "metadata": {
        "colab": {
          "base_uri": "https://localhost:8080/"
        },
        "id": "0tPzMPXT5zN2",
        "outputId": "213c8da7-a141-438a-ec69-bdced235db07"
      },
      "execution_count": 11,
      "outputs": [
        {
          "output_type": "stream",
          "name": "stdout",
          "text": [
            "02_agreement_bot\n",
            "\n",
            "What's your favorite animal?Cat\n",
            "\n",
            "My favorite animal is also Cat!\n"
          ]
        }
      ]
    },
    {
      "cell_type": "code",
      "source": [
        "print (\"03_fahrenheit_to_celsius\\n\")\n",
        "\n",
        "def temp():\n",
        "  print(\"This Application is convert Fahrenheit to Celsius\\n\")\n",
        "  fahrenheit_degree = float(input(\"Enter your fahrenheit degree \"))\n",
        "  celsius = (fahrenheit_degree - 32) * 5.0/9.0\n",
        "  print (f'Temperarture: {fahrenheit_degree}F = {celsius}C ')\n",
        "\n",
        "if __name__ == '__main__':\n",
        "    temp()\n"
      ],
      "metadata": {
        "colab": {
          "base_uri": "https://localhost:8080/"
        },
        "id": "LtpgBWIy_RIn",
        "outputId": "bcef64d2-842c-49c5-9403-6df5d258b2ef"
      },
      "execution_count": 28,
      "outputs": [
        {
          "output_type": "stream",
          "name": "stdout",
          "text": [
            "03_fahrenheit_to_celsius\n",
            "\n",
            "This Application is convert Fahrenheit to Celsius\n",
            "\n",
            "Enter your fahrenheit degree 76\n",
            "Temperarture: 76.0F = 24.444444444444443C \n"
          ]
        }
      ]
    },
    {
      "cell_type": "code",
      "source": [
        "print(\"04_how_old_are_they\\n\")\n",
        "\n",
        "def add_ages():\n",
        "  anton : int = 21\n",
        "  beth : int = anton + 6\n",
        "  chen : int = beth + 20\n",
        "  drew : int = chen + anton\n",
        "  ethan: int = chen\n",
        "\n",
        "  print (\"Anton is \" + str(anton))\n",
        "  print (\"Beth is \" + str(beth))\n",
        "  print (\"Chen is \" + str (chen))\n",
        "  print (\"Drew is \" + str (drew))\n",
        "  print (\"Ethan is \" + str (ethan))\n",
        "\n",
        "if __name__ == \"__main__\":\n",
        "  add_ages()\n"
      ],
      "metadata": {
        "colab": {
          "base_uri": "https://localhost:8080/"
        },
        "id": "DJzqSiQ4RHW5",
        "outputId": "0c3d9d21-fb09-4f3c-95e9-49e068ed662f"
      },
      "execution_count": 32,
      "outputs": [
        {
          "output_type": "stream",
          "name": "stdout",
          "text": [
            "04_how_old_are_they\n",
            "\n",
            "Anton is 21\n",
            "Beth is 27\n",
            "Chen is 47\n",
            "Drew is 68\n",
            "Ethan is 47\n"
          ]
        }
      ]
    },
    {
      "cell_type": "code",
      "source": [
        "print(\"05_triangle_perimeter\\n\")\n",
        "\n",
        "def triangle():\n",
        "    print(\"This function is about the sum of triangle sides\")\n",
        "    side_1: float = float(input(\"What is the length of side 1? \"))\n",
        "    side_2: float = float(input(\"What is the length of side 2? \"))\n",
        "    side_3: float = float(input(\"What is the length of side 3? \"))\n",
        "    total: float = side_1 + side_2 + side_3  # Adding the sides to calculate perimeter\n",
        "\n",
        "    # Output the perimeter with the correct formatting\n",
        "    print(f\"The perimeter of the triangle is {total}\")\n",
        "\n",
        "if __name__ == \"__main__\":\n",
        "    triangle()\n"
      ],
      "metadata": {
        "colab": {
          "base_uri": "https://localhost:8080/"
        },
        "id": "NPH_sg9afLD6",
        "outputId": "a42f8193-7446-4e3c-bf5b-5fed481fe0bc"
      },
      "execution_count": 39,
      "outputs": [
        {
          "output_type": "stream",
          "name": "stdout",
          "text": [
            "05_triangle_perimeter\n",
            "\n",
            "This function is about the sum of triangle sides\n",
            "What is the length of side 1? 10.3\n",
            "What is the length of side 2? 6.7\n",
            "What is the length of side 3? 10\n",
            "The perimeter of the triangle is 27.0\n"
          ]
        }
      ]
    },
    {
      "cell_type": "code",
      "source": [
        "print (\"06_square_number\\n\")\n",
        "\n",
        "def square():\n",
        "  print(\"This code is about square of given number\\n \")\n",
        "  num : float = float(input(\"Enter a number to see its square: \"))\n",
        "  print (str(num) + \" squared is \" + str(num**2))\n",
        "\n",
        "if __name__ == \"__main__\":\n",
        "  square()"
      ],
      "metadata": {
        "colab": {
          "base_uri": "https://localhost:8080/"
        },
        "id": "6J3Oa2UxsEkI",
        "outputId": "ce7abc0e-3f78-44ec-ccc8-723425a10115"
      },
      "execution_count": 45,
      "outputs": [
        {
          "output_type": "stream",
          "name": "stdout",
          "text": [
            "06_square_number\n",
            "\n",
            "This code is about square of given number\n",
            " \n",
            "Enter a number to see its square: 2\n",
            "2.0 squared is 4.0\n"
          ]
        }
      ]
    }
  ]
}