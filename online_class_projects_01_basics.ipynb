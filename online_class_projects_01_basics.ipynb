{
  "nbformat": 4,
  "nbformat_minor": 0,
  "metadata": {
    "colab": {
      "provenance": [],
      "authorship_tag": "ABX9TyN+FAc+HoEL9p2ehwJqdV1D",
      "include_colab_link": true
    },
    "kernelspec": {
      "name": "python3",
      "display_name": "Python 3"
    },
    "language_info": {
      "name": "python"
    }
  },
  "cells": [
    {
      "cell_type": "markdown",
      "metadata": {
        "id": "view-in-github",
        "colab_type": "text"
      },
      "source": [
        "<a href=\"https://colab.research.google.com/github/shsarfaraz/Project-4-Assignments/blob/master/online_class_projects_01_basics.ipynb\" target=\"_parent\"><img src=\"https://colab.research.google.com/assets/colab-badge.svg\" alt=\"Open In Colab\"/></a>"
      ]
    },
    {
      "cell_type": "code",
      "execution_count": 3,
      "metadata": {
        "colab": {
          "base_uri": "https://localhost:8080/"
        },
        "id": "5285TZ7EaCGU",
        "outputId": "b90da64f-cfe6-4133-de15-419efb21e3cd"
      },
      "outputs": [
        {
          "output_type": "stream",
          "name": "stdout",
          "text": [
            "00_joke_bot\n",
            "\n",
            "What do you want? joke\n",
            "Why do programmers prefer dark mode? \n",
            "Because the light attracts bugs!\n"
          ]
        }
      ],
      "source": [
        "print (\"00_joke_bot\\n\")\n",
        "\n",
        "PROMPT: str = \"What do you want? \"\n",
        "JOKE: str = \"Why do programmers prefer dark mode? \\nBecause the light attracts bugs!\"\n",
        "SORRY: str = \"Sorry I only tell jokes.\"\n",
        "\n",
        "def main():\n",
        "  user_input = input(PROMPT)\n",
        "  user_input = user_input.strip().lower()\n",
        "\n",
        "  if \"joke\" in user_input:\n",
        "    print(JOKE)\n",
        "  else:\n",
        "    print(SORRY)\n",
        "\n",
        "if __name__ == \"__main__\":\n",
        "  main()"
      ]
    },
    {
      "cell_type": "code",
      "source": [
        "print(\"01_double_it\\n\")\n",
        "\n",
        "def main():\n",
        "  user_value = int(input(\"Please Enter a Number: \"))\n",
        "  while user_value < 100:\n",
        "    user_value = user_value * 2\n",
        "    print(user_value)\n",
        "\n",
        "if __name__ == \"__main__\":\n",
        "   main()"
      ],
      "metadata": {
        "colab": {
          "base_uri": "https://localhost:8080/"
        },
        "id": "7jwsLmFDtgFw",
        "outputId": "91a88d9b-f30b-420d-fd88-29b55a250707"
      },
      "execution_count": 5,
      "outputs": [
        {
          "output_type": "stream",
          "name": "stdout",
          "text": [
            "01_double_it\n",
            "\n",
            "Please Enter a Number: 4\n",
            "8\n",
            "16\n",
            "32\n",
            "64\n",
            "128\n"
          ]
        }
      ]
    },
    {
      "cell_type": "code",
      "source": [
        "print(\"02_liftoff\\n\")\n",
        "\n",
        "def main():\n",
        "  for i in range(10, 0, -1):\n",
        "    print(i, end = \" \")\n",
        "  print(\"Liftoff! 🚀\")\n",
        "\n",
        "if __name__ == \"__main__\":\n",
        "  main()"
      ],
      "metadata": {
        "colab": {
          "base_uri": "https://localhost:8080/"
        },
        "id": "hUDoLx8SvKAO",
        "outputId": "84f4ad7a-949d-4ff7-90ba-9b01ed928d68"
      },
      "execution_count": 6,
      "outputs": [
        {
          "output_type": "stream",
          "name": "stdout",
          "text": [
            "02_liftoff\n",
            "\n",
            "10 9 8 7 6 5 4 3 2 1 Liftoff! 🚀\n"
          ]
        }
      ]
    },
    {
      "cell_type": "code",
      "source": [
        "import random\n",
        "print(\"03_guess_my_number\\n\")\n",
        "\n",
        "def main():\n",
        "  secret_number = random.randint(1, 100)\n",
        "  print (\"I am thinking a number between 1 - 100 ....\")\n",
        "\n",
        "  guess = int(input(\"Enter a guess my number \"))\n",
        "\n",
        "  while guess != secret_number:\n",
        "    if guess < secret_number:\n",
        "        print (\"Your Guess is Too low\")\n",
        "    else:\n",
        "        print (\"Your Guess is Too High\")\n",
        "\n",
        "    guess = int(input(\"Enter a guess my number \"))\n",
        "\n",
        "  print(f\"Congrats! You got it... The number was {secret_number}\")\n",
        "\n",
        "if __name__ == \"__main__\":\n",
        "   main()\n"
      ],
      "metadata": {
        "colab": {
          "base_uri": "https://localhost:8080/"
        },
        "id": "kP33r1fHvk5Z",
        "outputId": "3eb35eb5-f76d-4a91-f1ae-0d3c9c51d43d"
      },
      "execution_count": 7,
      "outputs": [
        {
          "output_type": "stream",
          "name": "stdout",
          "text": [
            "03_guess_my_number\n",
            "\n",
            "I am thinking a number between 1 - 100 ....\n",
            "Enter a guess my number 20\n",
            "Your Guess is Too low\n",
            "Enter a guess my number 50\n",
            "Your Guess is Too High\n",
            "Enter a guess my number 40\n",
            "Your Guess is Too low\n",
            "Enter a guess my number 45\n",
            "Your Guess is Too High\n",
            "Enter a guess my number 44\n",
            "Congrats! You got it... The number was 44\n"
          ]
        }
      ]
    },
    {
      "cell_type": "code",
      "source": [
        "import random\n",
        "print(\"04_random_numbers\\n\")\n",
        "\n",
        "def main():\n",
        "  for i in range(10):\n",
        "    print(random.randint(1, 100), end = \" \")\n",
        "\n",
        "if __name__ == \"__main__\":\n",
        "   main()\n"
      ],
      "metadata": {
        "colab": {
          "base_uri": "https://localhost:8080/"
        },
        "id": "9_RdWYI1wYvp",
        "outputId": "ec9a3339-6fc5-4958-cdb3-867008492c5c"
      },
      "execution_count": 14,
      "outputs": [
        {
          "output_type": "stream",
          "name": "stdout",
          "text": [
            "04_random_numbers\n",
            "\n",
            "51 33 69 25 14 20 33 30 31 56 "
          ]
        }
      ]
    }
  ]
}