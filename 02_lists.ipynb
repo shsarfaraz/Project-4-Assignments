{
  "nbformat": 4,
  "nbformat_minor": 0,
  "metadata": {
    "colab": {
      "provenance": [],
      "gpuType": "T4",
      "authorship_tag": "ABX9TyPYMxe10e34LnniZ6tvBRtb",
      "include_colab_link": true
    },
    "kernelspec": {
      "name": "python3",
      "display_name": "Python 3"
    },
    "language_info": {
      "name": "python"
    },
    "accelerator": "GPU"
  },
  "cells": [
    {
      "cell_type": "markdown",
      "metadata": {
        "id": "view-in-github",
        "colab_type": "text"
      },
      "source": [
        "<a href=\"https://colab.research.google.com/github/shsarfaraz/Project-4-Assignments/blob/master/02_lists.ipynb\" target=\"_parent\"><img src=\"https://colab.research.google.com/assets/colab-badge.svg\" alt=\"Open In Colab\"/></a>"
      ]
    },
    {
      "cell_type": "code",
      "execution_count": null,
      "metadata": {
        "colab": {
          "base_uri": "https://localhost:8080/"
        },
        "id": "2D8LwaeCdjMD",
        "outputId": "3f3df0a4-78b1-47af-9a75-4e195710e99e"
      },
      "outputs": [
        {
          "output_type": "stream",
          "name": "stdout",
          "text": [
            "01_add_many_number\n",
            "\n",
            "15\n"
          ]
        }
      ],
      "source": [
        "print (\"01_add_many_number\\n\")\n",
        "\n",
        "def add_many_numbers(numbers)-> int:\n",
        "\n",
        "    total_so_far: int = 0\n",
        "    for number in numbers:\n",
        "        total_so_far += number\n",
        "\n",
        "    return total_so_far\n",
        "\n",
        "def main():\n",
        "    numbers: list[int] = [1, 2, 3, 4, 5]\n",
        "    sum_of_numbers: int = add_many_numbers(numbers)  # Find the sum of the list\n",
        "    print(sum_of_numbers)  # Print out the sum above\n",
        "\n",
        "\n",
        "if __name__ == '__main__':\n",
        "    main()"
      ]
    },
    {
      "cell_type": "code",
      "source": [
        "print(\"02_double_list\\n\")\n",
        "\n",
        "def main():\n",
        "    numbers: list[int] = [1, 2, 3, 4]\n",
        "\n",
        "    for i in range(len(numbers)):\n",
        "        elem_at_index = numbers[i]\n",
        "        numbers[i] = elem_at_index * 2  # Set the element at index i to be equal to the previous element times 2\n",
        "\n",
        "    print(numbers)  # This should print the doubled list\n",
        "\n",
        "\n",
        "if __name__ == '__main__':\n",
        "    main()\n"
      ],
      "metadata": {
        "id": "CwoAEYdnkL0I",
        "colab": {
          "base_uri": "https://localhost:8080/"
        },
        "outputId": "deb75e51-a65b-4902-f8d2-a7abc5602ffd"
      },
      "execution_count": null,
      "outputs": [
        {
          "output_type": "stream",
          "name": "stdout",
          "text": [
            "02_double_list\n",
            "\n",
            "[2, 4, 6, 8]\n"
          ]
        }
      ]
    },
    {
      "cell_type": "code",
      "source": [
        "print (\"04_flowing_with_data_structures\\n\")\n",
        "\n",
        "def add_three_copies(lst, data):\n",
        "   for i in range(3):\n",
        "     lst.append(data)\n",
        "\n",
        "def main():\n",
        "    message = input(\"Enter your message for copy. \")\n",
        "    lst = []\n",
        "    print (\"Before list \", lst)\n",
        "    add_three_copies(lst, message)\n",
        "    print (\"After list \", lst)\n",
        "\n",
        "if __name__ == '__main__':\n",
        "    main()\n"
      ],
      "metadata": {
        "id": "kHD61YcAWzGY",
        "colab": {
          "base_uri": "https://localhost:8080/"
        },
        "outputId": "c11a9092-b63d-4ed2-f004-113dd6b07181"
      },
      "execution_count": null,
      "outputs": [
        {
          "output_type": "stream",
          "name": "stdout",
          "text": [
            "04_flowing_with_data_structures\n",
            "\n",
            "Enter your message for copy. What is your name?\n",
            "Before list  []\n",
            "After list  ['What is your name?', 'What is your name?', 'What is your name?']\n"
          ]
        }
      ]
    },
    {
      "cell_type": "code",
      "source": [
        "print (\"05_get_first_element\\n\")\n",
        "\n",
        "def get_first_element(lst):\n",
        "  print (lst[0])\n",
        "\n",
        "def get_lst():\n",
        "  lst = []\n",
        "  elem : str = input(\"Enter your element. \")\n",
        "  while elem != \"\":\n",
        "    lst.append(elem)\n",
        "    elem = input(\"Enter your element. \")\n",
        "  return lst\n",
        "\n",
        "def main():\n",
        "    lst = get_lst()\n",
        "    get_first_element(lst)\n",
        "\n",
        "if __name__ == '__main__':\n",
        "  main()\n",
        "\n"
      ],
      "metadata": {
        "colab": {
          "base_uri": "https://localhost:8080/"
        },
        "id": "66tMvMLh7q73",
        "outputId": "8680fa22-581a-4245-f1d0-cf220ec6c9fc"
      },
      "execution_count": null,
      "outputs": [
        {
          "output_type": "stream",
          "name": "stdout",
          "text": [
            "05_get_first_element\n",
            "\n",
            "Enter your element. Hi\n",
            "Enter your element. What is your name?\n",
            "Enter your element. My Name is Sarfaraz\n",
            "Enter your element. \n",
            "Hi\n"
          ]
        }
      ]
    },
    {
      "cell_type": "code",
      "source": [
        "print (\"06_get_last_element\\n\")\n",
        "\n",
        "def get_last_element(lst):\n",
        "  print (lst[-1])\n",
        "\n",
        "def get_lst():\n",
        "  lst = []\n",
        "  elem : str = input(\"Enter your element. \")\n",
        "  while elem != \"\":\n",
        "    lst.append(elem)\n",
        "    elem = input(\"Enter your element. \")\n",
        "  return lst\n",
        "\n",
        "def main():\n",
        "    lst = get_lst()\n",
        "    get_last_element(lst)\n",
        "\n",
        "if __name__ == '__main__':\n",
        "  main()\n"
      ],
      "metadata": {
        "colab": {
          "base_uri": "https://localhost:8080/"
        },
        "id": "eyogOvzfQ-RQ",
        "outputId": "77acd212-00d4-42cd-f498-d1fe2522accd"
      },
      "execution_count": 3,
      "outputs": [
        {
          "output_type": "stream",
          "name": "stdout",
          "text": [
            "06_get_last_element\n",
            "\n",
            "Enter your element. a\n",
            "Enter your element. b\n",
            "Enter your element. c\n",
            "Enter your element. d\n",
            "Enter your element. \n",
            "d\n"
          ]
        }
      ]
    },
    {
      "cell_type": "code",
      "source": [
        "print(\"07_get_list\\n\")\n",
        "\n",
        "def main ():\n",
        "  lst = []\n",
        "  val = input(\"Enter your value. \")\n",
        "  while val:\n",
        "    lst.append(val)\n",
        "    val = input(\"Enter your value. \")\n",
        "\n",
        "  print (\"Here is your list: \", lst)\n",
        "\n",
        "if __name__ == '__main__':\n",
        "  main()"
      ],
      "metadata": {
        "colab": {
          "base_uri": "https://localhost:8080/"
        },
        "id": "VOWmU8i8alxJ",
        "outputId": "d704739e-96c5-4e10-ae30-0f7b59987c75"
      },
      "execution_count": 10,
      "outputs": [
        {
          "output_type": "stream",
          "name": "stdout",
          "text": [
            "07_get_list\n",
            "\n",
            "Enter your value. Mango\n",
            "Enter your value. Apple\n",
            "Enter your value. Orange\n",
            "Enter your value. \n",
            "Here is your list:  ['Mango', 'Apple', 'Orange']\n"
          ]
        }
      ]
    },
    {
      "cell_type": "code",
      "source": [
        "print(\"08_shorten\\n\")\n",
        "\n",
        "MAX_LENGTH: int = 3\n",
        "\n",
        "def shorten(lst):\n",
        "    while len(lst) > MAX_LENGTH:\n",
        "        last_element = lst.pop()\n",
        "        print(last_element)\n",
        "\n",
        "def get_lst():\n",
        "    lst = []\n",
        "    element = input(\"Enter your element: \")\n",
        "    while element != \"\":\n",
        "        lst.append(element)\n",
        "        element = input(\"Enter your element: \")\n",
        "    return lst\n",
        "\n",
        "def main():\n",
        "    lst = get_lst()\n",
        "    shorten(lst)\n",
        "\n",
        "if __name__ == \"__main__\":\n",
        "    main()\n"
      ],
      "metadata": {
        "colab": {
          "base_uri": "https://localhost:8080/"
        },
        "id": "cJi2VJ6Yg6oh",
        "outputId": "299e7d77-f4b5-490e-94da-9fcecf8a4792"
      },
      "execution_count": 22,
      "outputs": [
        {
          "output_type": "stream",
          "name": "stdout",
          "text": [
            "08_shorten\n",
            "\n",
            "Enter your element: 1\n",
            "Enter your element: 2\n",
            "Enter your element: 3\n",
            "Enter your element: 4\n",
            "Enter your element: 5\n",
            "Enter your element: 6\n",
            "Enter your element: \n",
            "6\n",
            "5\n",
            "4\n"
          ]
        }
      ]
    }
  ]
}