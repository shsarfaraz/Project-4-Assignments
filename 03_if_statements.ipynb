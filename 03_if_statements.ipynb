{
  "nbformat": 4,
  "nbformat_minor": 0,
  "metadata": {
    "colab": {
      "provenance": [],
      "authorship_tag": "ABX9TyObmiMo72zWABG15sY+06Pn",
      "include_colab_link": true
    },
    "kernelspec": {
      "name": "python3",
      "display_name": "Python 3"
    },
    "language_info": {
      "name": "python"
    }
  },
  "cells": [
    {
      "cell_type": "markdown",
      "metadata": {
        "id": "view-in-github",
        "colab_type": "text"
      },
      "source": [
        "<a href=\"https://colab.research.google.com/github/shsarfaraz/Project-4-Assignments/blob/master/03_if_statements.ipynb\" target=\"_parent\"><img src=\"https://colab.research.google.com/assets/colab-badge.svg\" alt=\"Open In Colab\"/></a>"
      ]
    },
    {
      "cell_type": "code",
      "execution_count": null,
      "metadata": {
        "id": "Tk1GH7f_IsuE"
      },
      "outputs": [],
      "source": []
    },
    {
      "cell_type": "code",
      "source": [
        "print (\"01_print_events\\n\")\n",
        "\n",
        "def even_numbers():\n",
        "  for i in range (20):\n",
        "   print (i*2)\n",
        "\n",
        "\n",
        "if __name__ == \"__main__\":\n",
        "  even_numbers()"
      ],
      "metadata": {
        "colab": {
          "base_uri": "https://localhost:8080/"
        },
        "id": "c0HIb7NOIyQZ",
        "outputId": "065148e1-7941-4f7e-893e-ddf9f2e2a153"
      },
      "execution_count": null,
      "outputs": [
        {
          "output_type": "stream",
          "name": "stdout",
          "text": [
            "01_print_events\n",
            "\n",
            "0\n",
            "2\n",
            "4\n",
            "6\n",
            "8\n",
            "10\n",
            "12\n",
            "14\n",
            "16\n",
            "18\n",
            "20\n",
            "22\n",
            "24\n",
            "26\n",
            "28\n",
            "30\n",
            "32\n",
            "34\n",
            "36\n",
            "38\n"
          ]
        }
      ]
    },
    {
      "cell_type": "code",
      "source": [
        "print (\"02_international_voting_age\\n\")\n",
        "\n",
        "PETURKSBOUIPO_AGE : int = 16\n",
        "STANLAU_AGE : int = 25\n",
        "MAYENGUA_AGE : int = 48\n",
        "\n",
        "age: int = int (input(\"How old are you? \"))\n",
        "\n",
        "def main():\n",
        "\n",
        "  if age >= PETURKSBOUIPO_AGE:\n",
        "    print (f\"You are eligible to vote in the PETURKSBOUIPO because you are {age} years old\")\n",
        "  else :\n",
        "    print (f\"Sorry! You are not eligible to vote in PETURKSBOUIPO because you are {age} years old\")\n",
        "\n",
        "if age >= STANLAU_AGE:\n",
        "  print (f\"You are eligible to vote in the STANLAU because you are {age} years old\")\n",
        "else :\n",
        "    print (f\"Sorry! You are not eligible to vote in STANLAU because you are {age} years old\")\n",
        "\n",
        "if age >= MAYENGUA_AGE:\n",
        "  print (f\"You are eligible to vote in the MAYENGUA because you are {age} years old\")\n",
        "else :\n",
        "    print (f\"Sorry! You are not eligible to vote in MAYENGUA because you are {age} years old\")\n",
        "\n",
        "\n",
        "\n",
        "if __name__ == \"__main__\":\n",
        "  main()\n"
      ],
      "metadata": {
        "colab": {
          "base_uri": "https://localhost:8080/"
        },
        "id": "0BLAVtjQO5Le",
        "outputId": "4798d83d-4b34-4982-fa18-a6505aa7005a"
      },
      "execution_count": null,
      "outputs": [
        {
          "output_type": "stream",
          "name": "stdout",
          "text": [
            "02_international_voting_age\n",
            "\n",
            "How old are you? 26\n",
            "You are eligible to vote in the STANLAU because you are 26 years old\n",
            "Sorry! You are not eligible to vote in MAYENGUA because you are 26 years old\n",
            "You are eligible to vote in the PETURKSBOUIPO because you are 26 years old\n"
          ]
        }
      ]
    },
    {
      "cell_type": "code",
      "source": [
        "print (\"03_leap_year\\n\")\n",
        "\n",
        "def leap_year():\n",
        "  year: int = int (input(\"Enter a year: \"))\n",
        "\n",
        "  if year % 4 == 0:\n",
        "    if year % 100 == 0:\n",
        "      if year % 400 == 0:\n",
        "        print (f\"{year} is a leap year\")\n",
        "      else:\n",
        "        print (f\"{year} is not a leap year\")\n",
        "    else:\n",
        "        print (f\"{year} is a leap year\")\n",
        "  else:\n",
        "      print (f\"{year} is not a leap year\")\n",
        "\n",
        "\n",
        "if __name__ == \"__main__\":\n",
        "  leap_year()\n"
      ],
      "metadata": {
        "id": "LF61e5WscakE",
        "colab": {
          "base_uri": "https://localhost:8080/"
        },
        "outputId": "c2f34132-4330-4b64-fbce-334301d7d697"
      },
      "execution_count": 5,
      "outputs": [
        {
          "output_type": "stream",
          "name": "stdout",
          "text": [
            "03_leap_year\n",
            "\n",
            "Enter a year: 2024\n",
            "2024 is a leap year\n"
          ]
        }
      ]
    },
    {
      "cell_type": "code",
      "source": [
        "print (\"04_tall_enough_to_ride\\n\")\n",
        "\n",
        "minimum_height: int = 50\n",
        "\n",
        "def height():\n",
        "  height: float = float (input(\"Enter your Height? \"))\n",
        "  if height >= minimum_height:\n",
        "    print (\"You are tall enough to ride\")\n",
        "  else:\n",
        "      print (\"You're not tall enough to ride, but maybe next year!\")\n",
        "\n",
        "if __name__ == \"__main__\":\n",
        "  height()\n"
      ],
      "metadata": {
        "colab": {
          "base_uri": "https://localhost:8080/"
        },
        "id": "HY-yV2pPCbwe",
        "outputId": "f9d99c6b-4b5a-425c-e95e-49eb220cf0d1"
      },
      "execution_count": 17,
      "outputs": [
        {
          "output_type": "stream",
          "name": "stdout",
          "text": [
            "04_tall_enough_to_ride\n",
            "\n",
            "Enter your Height? 50\n",
            "You are tall enough to ride\n"
          ]
        }
      ]
    },
    {
      "cell_type": "code",
      "source": [
        "print (\"05_random_numbers\\n\")\n",
        "\n",
        "import random\n",
        "\n",
        "n_numbers = 10\n",
        "min_number = 1\n",
        "max_number = 100\n",
        "\n",
        "def random_numbers():\n",
        "  for i in range (n_numbers):\n",
        "    print (random.randint(min_number, max_number))\n",
        "\n",
        "if __name__ == \"__main__\":\n",
        "  random_numbers()"
      ],
      "metadata": {
        "colab": {
          "base_uri": "https://localhost:8080/"
        },
        "id": "25AaYr3DIN3K",
        "outputId": "c49d5bb2-a205-4669-cd11-d2fc4f15a4a0"
      },
      "execution_count": 19,
      "outputs": [
        {
          "output_type": "stream",
          "name": "stdout",
          "text": [
            "05_random_numbers\n",
            "\n",
            "43\n",
            "27\n",
            "68\n",
            "46\n",
            "94\n",
            "95\n",
            "34\n",
            "29\n",
            "27\n",
            "6\n"
          ]
        }
      ]
    }
  ]
}