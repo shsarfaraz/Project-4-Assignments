{
  "nbformat": 4,
  "nbformat_minor": 0,
  "metadata": {
    "colab": {
      "provenance": [],
      "authorship_tag": "ABX9TyOzAgYBlDMWAVxQiBkaDHa+",
      "include_colab_link": true
    },
    "kernelspec": {
      "name": "python3",
      "display_name": "Python 3"
    },
    "language_info": {
      "name": "python"
    }
  },
  "cells": [
    {
      "cell_type": "markdown",
      "metadata": {
        "id": "view-in-github",
        "colab_type": "text"
      },
      "source": [
        "<a href=\"https://colab.research.google.com/github/shsarfaraz/Project-4-Assignments/blob/master/04_dictionaries.ipynb\" target=\"_parent\"><img src=\"https://colab.research.google.com/assets/colab-badge.svg\" alt=\"Open In Colab\"/></a>"
      ]
    },
    {
      "cell_type": "code",
      "execution_count": null,
      "metadata": {
        "id": "zE9JJHUtz2Ku",
        "colab": {
          "base_uri": "https://localhost:8080/"
        },
        "outputId": "75126d60-51a2-42ad-f5a1-40809ddb08d4"
      },
      "outputs": [
        {
          "output_type": "stream",
          "name": "stdout",
          "text": [
            "00_count_nums\n",
            "Enter a number or 'Exit' to quit: m\n",
            "Invalid input. Please enter a number or 'Exit' to quit.\n",
            "Enter a number or 'Exit' to quit: 10\n",
            "Enter a number or 'Exit' to quit: 10\n",
            "Enter a number or 'Exit' to quit: 3\n",
            "Enter a number or 'Exit' to quit: 3\n",
            "Enter a number or 'Exit' to quit: 4\n",
            "Enter a number or 'Exit' to quit: EXIT\n",
            "10 appears 2 times\n",
            "3 appears 2 times\n",
            "4 appears 1 times\n"
          ]
        }
      ],
      "source": [
        "print(\"00_count_nums\")\n",
        "\n",
        "def count_nums():\n",
        "  count_dic = {}\n",
        "  while True:\n",
        "    num = input(\"Enter a number or 'Exit' to quit: \")\n",
        "    if num.title() == 'Exit':\n",
        "      break\n",
        "    if num.isdigit():\n",
        "      num = int(num)\n",
        "      count_dic[num] = count_dic.get(num, 0) + 1\n",
        "    else:\n",
        "      print(\"Invalid input. Please enter a number or 'Exit' to quit.\")\n",
        "  for num, count in count_dic.items():\n",
        "    print(f\"{num} appears {count} times\")\n",
        "\n",
        "if __name__ == \"__main__\":\n",
        "  count_nums()"
      ]
    },
    {
      "cell_type": "code",
      "source": [
        "print(\"01_phonebook\\n\")\n",
        "\n",
        "def add_contact(phonebook):\n",
        "  name = input(\"Enter contact name: \")\n",
        "  number = input(\"Enter contact phone number: \")\n",
        "\n",
        "  if name in phonebook:\n",
        "    print(f\"Contact {name} already exists.\")\n",
        "  else:\n",
        "    phonebook[name] = number\n",
        "    print(f\"Contact {name} added successfully.\")\n",
        "\n",
        "def search_contact(phonebook):\n",
        "  name = input(\"Enter contact name to search: \")\n",
        "  if name in phonebook:\n",
        "    print(f\"Contact {name}: {phonebook[name]}\")\n",
        "  else:\n",
        "    print(f\"Contact {name} not found.\")\n",
        "\n",
        "def display_contact(phonebook):\n",
        "  if phonebook:\n",
        "    print(\"\\n Phonebook Contacts List:\")\n",
        "    for name, number in phonebook.items():\n",
        "      print(f\"{name}: {number}\")\n",
        "  else:\n",
        "    print(\"\\nContact list is empty.\")\n",
        "\n",
        "def delete_contact(phonebook):\n",
        "  name = input(\"Enter a name you want to delete \")\n",
        "  if name in phonebook:\n",
        "    del phonebook[name]\n",
        "    print (f\"{name} Successfully Deleted \")\n",
        "  else:\n",
        "    print(f\"{name} not found in phone book\")\n",
        "\n",
        "if __name__ == \"__main__\":\n",
        "  phonebook = {}\n",
        "\n",
        "  while True:\n",
        "    print(\"\\nPhonebook Menu\" )\n",
        "    print( \"1. Add Contact\")\n",
        "    print(\"2. Search Contact\")\n",
        "    print(\"3. Delete Contact\")\n",
        "    print(\"4. Display Contacts\")\n",
        "    print(\"5. Exit\")\n",
        "\n",
        "    choice = input(\"Enter your choice (1-5): \")\n",
        "    if choice == '1':\n",
        "            add_contact(phonebook)\n",
        "    elif choice == '2':\n",
        "            search_contact(phonebook)\n",
        "    elif choice == '3':\n",
        "            delete_contact(phonebook)\n",
        "    elif choice == '4':\n",
        "            display_contact(phonebook)\n",
        "    elif choice == '5':\n",
        "            print(\"Exiting phonebook. Goodbye\")\n",
        "            break\n",
        "    else:\n",
        "            print(\"Invalid choice. Please choose a number between 1 and 5.\")\n",
        "\n",
        "\n",
        "\n"
      ],
      "metadata": {
        "colab": {
          "base_uri": "https://localhost:8080/"
        },
        "id": "upANwc-Eahlo",
        "outputId": "b6997ed1-5d2f-4b21-d726-ebe08480288d"
      },
      "execution_count": null,
      "outputs": [
        {
          "output_type": "stream",
          "name": "stdout",
          "text": [
            "01_phonebook\n",
            "\n",
            "\n",
            "Phonebook Menu\n",
            "1. Add Contact\n",
            "2. Search Contact\n",
            "3. Delete Contact\n",
            "4. Display Contacts\n",
            "5. Exit\n",
            "Enter your choice (1-5): 1\n",
            "Enter contact name: Mr. Khan\n",
            "Enter contact phone number: 0300-1234567\n",
            "Contact Mr. Khan added successfully.\n",
            "\n",
            "Phonebook Menu\n",
            "1. Add Contact\n",
            "2. Search Contact\n",
            "3. Delete Contact\n",
            "4. Display Contacts\n",
            "5. Exit\n",
            "Enter your choice (1-5): 4\n",
            "\n",
            " Phonebook Contacts List:\n",
            "Mr. Khan: 0300-1234567\n",
            "\n",
            "Phonebook Menu\n",
            "1. Add Contact\n",
            "2. Search Contact\n",
            "3. Delete Contact\n",
            "4. Display Contacts\n",
            "5. Exit\n",
            "Enter your choice (1-5): 5\n",
            "Exiting phonebook. Goodbye\n"
          ]
        }
      ]
    },
    {
      "cell_type": "code",
      "source": [
        "print(\"02_pop_up_shop\\n\")\n",
        "\n",
        "def calculate_total_cost():\n",
        "    fruits_prices = {\n",
        "        \"apple\": 1.5,\n",
        "        \"durian\": 50.0,\n",
        "        \"jackfruit\": 80.0,\n",
        "        \"kiwi\": 1.0,\n",
        "        \"rambutan\": 1.5,\n",
        "        \"mango\": 5.0\n",
        "    }\n",
        "\n",
        "    total_cost = 0\n",
        "    for fruit, price in fruits_prices.items():\n",
        "        while True:\n",
        "            try:\n",
        "                quantity = int(input(f\"How many {fruit} do you want to buy? \"))\n",
        "                if quantity < 0:\n",
        "                    print(\"Invalid input. Please enter a non-negative number.\")\n",
        "                    continue\n",
        "                total_cost += price * quantity\n",
        "                break\n",
        "            except ValueError:\n",
        "                print(\"Invalid input. Please enter a valid number.\")\n",
        "\n",
        "    print(f\"\\nYour Total Cost is: ${total_cost:.2f}\")\n",
        "\n",
        "if __name__ == \"__main__\":\n",
        "    calculate_total_cost()\n"
      ],
      "metadata": {
        "colab": {
          "base_uri": "https://localhost:8080/"
        },
        "id": "hx8ScRlPxduY",
        "outputId": "b0b44be5-ff4c-477b-8764-da7d5c95bfb8"
      },
      "execution_count": 8,
      "outputs": [
        {
          "output_type": "stream",
          "name": "stdout",
          "text": [
            "02_pop_up_shop\n",
            "\n",
            "How many apple do you want to buy? 1\n",
            "How many durian do you want to buy? 1\n",
            "How many jackfruit do you want to buy? 1\n",
            "How many kiwi do you want to buy? 1\n",
            "How many rambutan do you want to buy? 1\n",
            "How many mango do you want to buy? 1\n",
            "\n",
            "Your Total Cost is: $139.00\n"
          ]
        }
      ]
    },
    {
      "cell_type": "code",
      "source": [
        "import hashlib\n",
        "\n",
        "print (\"03_powerful_passwords\\n\")\n",
        "\n",
        "def hash_password(password):\n",
        "  return hashlib.sha256(password.encode()).hexdigest()\n",
        "\n",
        "stored_login = {\n",
        "    \"user@example.com\": hash_password(\"password123\"),\n",
        "    \"admin@example.com\": hash_password(\"securepass\")\n",
        "}\n",
        "\n",
        "def login(email, password):\n",
        "  if email in stored_login:\n",
        "    return stored_login[email] == hash_password(password)\n",
        "  return False\n",
        "\n",
        "if __name__ == \"__main__\":\n",
        "  email = input(\"Enter your email: \")\n",
        "  password = input(\"Enter your password: \")\n",
        "\n",
        "  if login(email, password):\n",
        "    print(\"Login successful!\")\n",
        "  else:\n",
        "    print(\"Invalid email or password.\")\n",
        "\n"
      ],
      "metadata": {
        "colab": {
          "base_uri": "https://localhost:8080/"
        },
        "id": "pCV3CUwvMK6-",
        "outputId": "ebfb0153-0b99-4e33-80a2-208c28adf258"
      },
      "execution_count": 2,
      "outputs": [
        {
          "output_type": "stream",
          "name": "stdout",
          "text": [
            "03_powerful_passwords\n",
            "\n",
            "Enter your email: user@example.com\n",
            "Enter your password: password123\n",
            "Login successful!\n"
          ]
        }
      ]
    }
  ]
}